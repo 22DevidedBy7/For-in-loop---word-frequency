{
 "cells": [
  {
   "cell_type": "code",
   "execution_count": 1,
   "metadata": {},
   "outputs": [
    {
     "name": "stdout",
     "output_type": "stream",
     "text": [
      "{'Ninad': [('for', 7), ('loop', 5), ('data', 1)], 'Kevin': [('for', 9), ('loop', 4), ('data', 0)], 'James': [('for', 2), ('loop', 3), ('data', 1)]}\n"
     ]
    }
   ],
   "source": [
    "user_text = {\"Ninad\" : \"Hello Kevin ! I can share one use case I found - in this particular example, I saw some variables set to some predefined value before FOR loop, FOR loop was being used inside a function and the FOR loop was being used to check a condition. so setting variables used in FOR loop to a predefined value helped in comparison and assigning new value to the same variable. like a counter. Following is what think could be a use case, I am not sure so I am open for discussion. e.g. if you are analyzing e-mail text of multiple users to determine frequency of certain words, let's say 'hmm', 'test', 'sports' etc. and correlate them to a user you could set the counter to '0' and user name to a blank string '' and iterate over data in a list, tuple etc. This way, you can set first person who uses the word 'sports' most frequently and then replace it with another person if found to be using the same word more frequently. Hope this helps. If I find other instances where defining or setting variable to a value prior to For loop, I will share with you. - Ninad \",\n",
    "             \"Kevin\"  : \"There seems to be multiple ways to format a For loop, there are times I have seen referencing the variable in the beginning for i in item: x = item[i] print(x) and others times, which the instructor uses in her lesson, where the variable is not referenced. for s in scores: scores = scores + 7 print(scores) Could someone post a link illustrating all of the different types of For loops along with the reason for choosing a specific For loop. Would also be helpful if someone could provide some insights into the range function for the iteration part of the For loop\",\n",
    "             \"James\" : \"In the exercise on for loops, the example of adding 7 to each score was never tested. I tested it, and it did not do what I expected. The loop variable (score) is not address equivalent to the iterated element; that is, even though 7 is being added to score, no changes are made to the elements in the list test_scores. The linked resource on For Loops did not answer my question (how do you change the data in the list). I then looked up List Methods, but none of the methods appeared to provide a solution either. My question remains unanswered by this resource.\"\n",
    "            }\n",
    "search_words = [\"for\",\"loop\", \"data\"]\n",
    "user_freq = {}\n",
    "\n",
    "for name, text in user_text.items():\n",
    "    word_freq = []\n",
    "    for word in search_words:\n",
    "        word_freq.append(text.lower().count(word))\n",
    "    user_freq[name] = list(zip(search_words, word_freq))\n",
    "print(user_freq)"
   ]
  },
  {
   "cell_type": "code",
   "execution_count": null,
   "metadata": {},
   "outputs": [],
   "source": []
  }
 ],
 "metadata": {
  "kernelspec": {
   "display_name": "Python 3",
   "language": "python",
   "name": "python3"
  },
  "language_info": {
   "codemirror_mode": {
    "name": "ipython",
    "version": 3
   },
   "file_extension": ".py",
   "mimetype": "text/x-python",
   "name": "python",
   "nbconvert_exporter": "python",
   "pygments_lexer": "ipython3",
   "version": "3.7.6"
  }
 },
 "nbformat": 4,
 "nbformat_minor": 4
}
